{
 "cells": [
  {
   "cell_type": "code",
   "execution_count": 29,
   "metadata": {},
   "outputs": [],
   "source": [
    "import pandas as pd\n",
    "import datetime\n",
    "#import quandl\n",
    "from pyhelper import APIhelper\n",
    "from pyhelper import Finhelper"
   ]
  },
  {
   "cell_type": "code",
   "execution_count": 34,
   "metadata": {},
   "outputs": [],
   "source": [
    "ah = APIhelper()\n",
    "\n",
    "#params\n",
    "cur = \"USD\"\n",
    "days = 365*8\n",
    "interval = \"daily\"\n",
    "eth_id = \"ethereum\"\n",
    "btc_id = \"bitcoin\"\n",
    "\n",
    "# - func for reference purposes\n",
    "#def to_date_time(date):\n",
    " #   return datetime.datetime.fromtimestamp(date).strftime(\"%Y-%m-%d %H:%M:%S\")\n",
    "\n",
    "#urls to get data from coingecko\n",
    "eth_price_url =f\"https://api.coingecko.com/api/v3/coins/{eth_id}/market_chart?vs_currency=usd&days={days}&interval={interval}\"\n",
    "btc_price_url = f\"https://api.coingecko.com/api/v3/coins/{btc_id}/market_chart?vs_currency=usd&days={days}&interval={interval}\"\n",
    "\n",
    "#get data, split columns\n",
    "df_eth = ah.get(eth_price_url)\n",
    "df_btc = ah.get(btc_price_url)\n",
    "\n",
    "#returns list of prices in separate columns\n",
    "df_price_eth = pd.DataFrame(df_eth[\"prices\"].to_list(), columns = [\"price_date\",\"eth_price\"])\n",
    "df_price_btc = pd.DataFrame(df_btc[\"prices\"].to_list(), columns = [\"price_date\", \"btc_price\"])\n",
    "\n",
    "#returns list of volumes in separate columns\n",
    "df_vol_eth = pd.DataFrame(df_eth[\"total_volumes\"].to_list(), columns = [\"price_date\",\"eth_volume\"])\n",
    "df_vol_btc = pd.DataFrame(df_btc[\"total_volumes\"].to_list(), columns = [\"price_date\", \"btc_volume\"])\n",
    "\n",
    "#joins all 4 df's on column\n",
    "df_crypto = pd.concat([df_price_eth,df_price_btc,df_vol_eth,df_vol_btc], axis = 1, join = \"inner\")\n",
    "\n",
    "#remove dupe price_date columns\n",
    "df_crypto = df_crypto.loc[:,~df_crypto.columns.duplicated()]\n",
    "\n",
    "#convert price_date to utc format\n",
    "df_crypto[\"price_date\"] = pd.to_datetime(df_crypto[\"price_date\"], unit = 'ms')\n",
    "\n",
    "df_crypto.head()\n",
    "df_crypto.to_csv(\"price_vol.csv\",index = False)\n"
   ]
  },
  {
   "cell_type": "code",
   "execution_count": 31,
   "metadata": {},
   "outputs": [
    {
     "data": {
      "text/html": [
       "<div>\n",
       "<style scoped>\n",
       "    .dataframe tbody tr th:only-of-type {\n",
       "        vertical-align: middle;\n",
       "    }\n",
       "\n",
       "    .dataframe tbody tr th {\n",
       "        vertical-align: top;\n",
       "    }\n",
       "\n",
       "    .dataframe thead th {\n",
       "        text-align: right;\n",
       "    }\n",
       "</style>\n",
       "<table border=\"1\" class=\"dataframe\">\n",
       "  <thead>\n",
       "    <tr style=\"text-align: right;\">\n",
       "      <th></th>\n",
       "      <th>transaction_fees</th>\n",
       "    </tr>\n",
       "    <tr>\n",
       "      <th>transaction_date</th>\n",
       "      <th></th>\n",
       "    </tr>\n",
       "  </thead>\n",
       "  <tbody>\n",
       "    <tr>\n",
       "      <th>2020-01-02 00:00:00</th>\n",
       "      <td>10.340226</td>\n",
       "    </tr>\n",
       "    <tr>\n",
       "      <th>2020-01-02 01:00:00</th>\n",
       "      <td>12.042372</td>\n",
       "    </tr>\n",
       "    <tr>\n",
       "      <th>2020-01-02 02:00:00</th>\n",
       "      <td>16.011142</td>\n",
       "    </tr>\n",
       "    <tr>\n",
       "      <th>2020-01-02 03:00:00</th>\n",
       "      <td>17.675051</td>\n",
       "    </tr>\n",
       "    <tr>\n",
       "      <th>2020-01-02 04:00:00</th>\n",
       "      <td>14.557773</td>\n",
       "    </tr>\n",
       "  </tbody>\n",
       "</table>\n",
       "</div>"
      ],
      "text/plain": [
       "                     transaction_fees\n",
       "transaction_date                     \n",
       "2020-01-02 00:00:00         10.340226\n",
       "2020-01-02 01:00:00         12.042372\n",
       "2020-01-02 02:00:00         16.011142\n",
       "2020-01-02 03:00:00         17.675051\n",
       "2020-01-02 04:00:00         14.557773"
      ]
     },
     "execution_count": 31,
     "metadata": {},
     "output_type": "execute_result"
    }
   ],
   "source": [
    "fh = Finhelper()\n",
    "trans_costs = fh.load_and_clean(\"eth_transaction_costs_current_year.csv\")\n",
    "trans_costs.sort_index(inplace = True)\n",
    "trans_costs.head()"
   ]
  },
  {
   "cell_type": "code",
   "execution_count": 32,
   "metadata": {},
   "outputs": [
    {
     "data": {
      "text/html": [
       "<div>\n",
       "<style scoped>\n",
       "    .dataframe tbody tr th:only-of-type {\n",
       "        vertical-align: middle;\n",
       "    }\n",
       "\n",
       "    .dataframe tbody tr th {\n",
       "        vertical-align: top;\n",
       "    }\n",
       "\n",
       "    .dataframe thead th {\n",
       "        text-align: right;\n",
       "    }\n",
       "</style>\n",
       "<table border=\"1\" class=\"dataframe\">\n",
       "  <thead>\n",
       "    <tr style=\"text-align: right;\">\n",
       "      <th></th>\n",
       "      <th>eth_value_sent</th>\n",
       "    </tr>\n",
       "    <tr>\n",
       "      <th>to_address</th>\n",
       "      <th></th>\n",
       "    </tr>\n",
       "  </thead>\n",
       "  <tbody>\n",
       "    <tr>\n",
       "      <th>0x7a250d5630b4cf539739df2c5dacb4c659f2488d</th>\n",
       "      <td>4.841474e+07</td>\n",
       "    </tr>\n",
       "    <tr>\n",
       "      <th>0x3f5ce5fbfe3e9af3971dd833d26ba9b5c936f0be</th>\n",
       "      <td>4.418743e+07</td>\n",
       "    </tr>\n",
       "    <tr>\n",
       "      <th>0xa7efae728d2936e78bda97dc267687568dd593f3</th>\n",
       "      <td>1.319009e+07</td>\n",
       "    </tr>\n",
       "    <tr>\n",
       "      <th>0xc02aaa39b223fe8d0a0e5c4f27ead9083c756cc2</th>\n",
       "      <td>1.083225e+07</td>\n",
       "    </tr>\n",
       "    <tr>\n",
       "      <th>0xd551234ae421e3bcba99a0da6d736074f22192ff</th>\n",
       "      <td>9.631243e+06</td>\n",
       "    </tr>\n",
       "  </tbody>\n",
       "</table>\n",
       "</div>"
      ],
      "text/plain": [
       "                                            eth_value_sent\n",
       "to_address                                                \n",
       "0x7a250d5630b4cf539739df2c5dacb4c659f2488d    4.841474e+07\n",
       "0x3f5ce5fbfe3e9af3971dd833d26ba9b5c936f0be    4.418743e+07\n",
       "0xa7efae728d2936e78bda97dc267687568dd593f3    1.319009e+07\n",
       "0xc02aaa39b223fe8d0a0e5c4f27ead9083c756cc2    1.083225e+07\n",
       "0xd551234ae421e3bcba99a0da6d736074f22192ff    9.631243e+06"
      ]
     },
     "execution_count": 32,
     "metadata": {},
     "output_type": "execute_result"
    }
   ],
   "source": [
    "wallets = fh.load_and_clean(\"top_wallets_by_value_sent_current_year.csv\")\n",
    "wallets.head()"
   ]
  },
  {
   "cell_type": "code",
   "execution_count": null,
   "metadata": {},
   "outputs": [],
   "source": [
    "#quandl"
   ]
  }
 ],
 "metadata": {
  "kernelspec": {
   "display_name": "Python 3",
   "language": "python",
   "name": "python3"
  },
  "language_info": {
   "codemirror_mode": {
    "name": "ipython",
    "version": 3
   },
   "file_extension": ".py",
   "mimetype": "text/x-python",
   "name": "python",
   "nbconvert_exporter": "python",
   "pygments_lexer": "ipython3",
   "version": "3.7.7"
  }
 },
 "nbformat": 4,
 "nbformat_minor": 4
}

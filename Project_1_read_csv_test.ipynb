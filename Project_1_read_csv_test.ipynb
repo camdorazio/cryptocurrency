{
 "cells": [
  {
   "cell_type": "code",
   "execution_count": 2,
   "metadata": {},
   "outputs": [],
   "source": [
    "import pandas as pd\n",
    "import numpy as np\n",
    "import datetime as dt\n",
    "from pathlib import Path\n",
    "%matplotlib inline"
   ]
  },
  {
   "cell_type": "code",
   "execution_count": 14,
   "metadata": {},
   "outputs": [
    {
     "data": {
      "text/html": [
       "<div>\n",
       "<style scoped>\n",
       "    .dataframe tbody tr th:only-of-type {\n",
       "        vertical-align: middle;\n",
       "    }\n",
       "\n",
       "    .dataframe tbody tr th {\n",
       "        vertical-align: top;\n",
       "    }\n",
       "\n",
       "    .dataframe thead th {\n",
       "        text-align: right;\n",
       "    }\n",
       "</style>\n",
       "<table border=\"1\" class=\"dataframe\">\n",
       "  <thead>\n",
       "    <tr style=\"text-align: right;\">\n",
       "      <th></th>\n",
       "      <th>block_timestamp</th>\n",
       "      <th>transaction_value</th>\n",
       "      <th>receipt_gas_used</th>\n",
       "      <th>gas_price</th>\n",
       "      <th>gwei_unit_transaction_cost</th>\n",
       "      <th>ethereum_transaction_cost</th>\n",
       "    </tr>\n",
       "  </thead>\n",
       "  <tbody>\n",
       "    <tr>\n",
       "      <th>0</th>\n",
       "      <td>2020-11-05 23:35:09 UTC</td>\n",
       "      <td>0.9</td>\n",
       "      <td>141936</td>\n",
       "      <td>22200000000</td>\n",
       "      <td>3.150979e+15</td>\n",
       "      <td>3.150979e+06</td>\n",
       "    </tr>\n",
       "    <tr>\n",
       "      <th>1</th>\n",
       "      <td>2020-11-05 23:39:44 UTC</td>\n",
       "      <td>0.0</td>\n",
       "      <td>41197</td>\n",
       "      <td>26000001561</td>\n",
       "      <td>1.071122e+15</td>\n",
       "      <td>1.071122e+06</td>\n",
       "    </tr>\n",
       "    <tr>\n",
       "      <th>2</th>\n",
       "      <td>2020-11-05 23:30:49 UTC</td>\n",
       "      <td>0.0</td>\n",
       "      <td>105871</td>\n",
       "      <td>24200000000</td>\n",
       "      <td>2.562078e+15</td>\n",
       "      <td>2.562078e+06</td>\n",
       "    </tr>\n",
       "    <tr>\n",
       "      <th>3</th>\n",
       "      <td>2020-11-05 23:42:54 UTC</td>\n",
       "      <td>0.0</td>\n",
       "      <td>74012</td>\n",
       "      <td>21300000255</td>\n",
       "      <td>1.576456e+15</td>\n",
       "      <td>1.576456e+06</td>\n",
       "    </tr>\n",
       "    <tr>\n",
       "      <th>4</th>\n",
       "      <td>2020-11-05 23:46:43 UTC</td>\n",
       "      <td>0.0</td>\n",
       "      <td>43581</td>\n",
       "      <td>51000000000</td>\n",
       "      <td>2.222631e+15</td>\n",
       "      <td>2.222631e+06</td>\n",
       "    </tr>\n",
       "  </tbody>\n",
       "</table>\n",
       "</div>"
      ],
      "text/plain": [
       "           block_timestamp  transaction_value  receipt_gas_used    gas_price  \\\n",
       "0  2020-11-05 23:35:09 UTC                0.9            141936  22200000000   \n",
       "1  2020-11-05 23:39:44 UTC                0.0             41197  26000001561   \n",
       "2  2020-11-05 23:30:49 UTC                0.0            105871  24200000000   \n",
       "3  2020-11-05 23:42:54 UTC                0.0             74012  21300000255   \n",
       "4  2020-11-05 23:46:43 UTC                0.0             43581  51000000000   \n",
       "\n",
       "   gwei_unit_transaction_cost  ethereum_transaction_cost  \n",
       "0                3.150979e+15               3.150979e+06  \n",
       "1                1.071122e+15               1.071122e+06  \n",
       "2                2.562078e+15               2.562078e+06  \n",
       "3                1.576456e+15               1.576456e+06  \n",
       "4                2.222631e+15               2.222631e+06  "
      ]
     },
     "execution_count": 14,
     "metadata": {},
     "output_type": "execute_result"
    }
   ],
   "source": [
    "# Reading in ETH data\n",
    "eth_transactions_csv = Path(\"add_date_to_query.csv\")\n",
    "eth_transactions_df = pd.read_csv(eth_transactions_csv, parse_dates=True, infer_datetime_format=True)\n",
    "eth_transactions_df.sort_index(ascending = True, inplace = True)\n",
    "eth_transactions_df.head()\n",
    "#eth_transactions_df.dtypes"
   ]
  },
  {
   "cell_type": "code",
   "execution_count": null,
   "metadata": {},
   "outputs": [],
   "source": []
  }
 ],
 "metadata": {
  "kernelspec": {
   "display_name": "Python [conda env:pyvizenv]",
   "language": "python",
   "name": "conda-env-pyvizenv-py"
  },
  "language_info": {
   "codemirror_mode": {
    "name": "ipython",
    "version": 3
   },
   "file_extension": ".py",
   "mimetype": "text/x-python",
   "name": "python",
   "nbconvert_exporter": "python",
   "pygments_lexer": "ipython3",
   "version": "3.7.7"
  }
 },
 "nbformat": 4,
 "nbformat_minor": 4
}
